{
 "cells": [
  {
   "cell_type": "markdown",
   "id": "f10aa678",
   "metadata": {
    "papermill": {
     "duration": 0.008993,
     "end_time": "2025-04-26T12:02:10.352281",
     "exception": false,
     "start_time": "2025-04-26T12:02:10.343288",
     "status": "completed"
    },
    "tags": []
   },
   "source": [
    "# *Import libararies*"
   ]
  },
  {
   "cell_type": "code",
   "execution_count": 1,
   "id": "b9920ff3",
   "metadata": {
    "execution": {
     "iopub.execute_input": "2025-04-26T12:02:10.370432Z",
     "iopub.status.busy": "2025-04-26T12:02:10.370094Z",
     "iopub.status.idle": "2025-04-26T12:02:15.651689Z",
     "shell.execute_reply": "2025-04-26T12:02:15.650500Z"
    },
    "papermill": {
     "duration": 5.292619,
     "end_time": "2025-04-26T12:02:15.653531",
     "exception": false,
     "start_time": "2025-04-26T12:02:10.360912",
     "status": "completed"
    },
    "tags": []
   },
   "outputs": [],
   "source": [
    "import pandas as pd\n",
    "import numpy as np\n",
    "import matplotlib.pyplot as plt\n",
    "import seaborn as sns\n",
    "from sklearn.model_selection import train_test_split\n",
    "from sklearn.model_selection import GridSearchCV\n",
    "from sklearn.linear_model import LogisticRegression\n",
    "from sklearn.tree import DecisionTreeClassifier\n",
    "from sklearn.neighbors import KNeighborsClassifier\n",
    "from sklearn.ensemble import RandomForestClassifier,GradientBoostingClassifier,BaggingClassifier\n",
    "from xgboost import XGBClassifier\n",
    "from sklearn.metrics import accuracy_score,confusion_matrix,classification_report\n",
    "import pickle"
   ]
  },
  {
   "cell_type": "markdown",
   "id": "b3b23468",
   "metadata": {
    "papermill": {
     "duration": 0.009309,
     "end_time": "2025-04-26T12:02:15.671102",
     "exception": false,
     "start_time": "2025-04-26T12:02:15.661793",
     "status": "completed"
    },
    "tags": []
   },
   "source": [
    "# *Load the dataset & Display basic information*"
   ]
  },
  {
   "cell_type": "code",
   "execution_count": 2,
   "id": "1898773a",
   "metadata": {
    "execution": {
     "iopub.execute_input": "2025-04-26T12:02:15.689016Z",
     "iopub.status.busy": "2025-04-26T12:02:15.688530Z",
     "iopub.status.idle": "2025-04-26T12:02:15.709267Z",
     "shell.execute_reply": "2025-04-26T12:02:15.708231Z"
    },
    "papermill": {
     "duration": 0.031636,
     "end_time": "2025-04-26T12:02:15.711061",
     "exception": false,
     "start_time": "2025-04-26T12:02:15.679425",
     "status": "completed"
    },
    "tags": []
   },
   "outputs": [],
   "source": [
    "df=pd.read_csv('/kaggle/input/loan-status-prediction/loan_data.csv')"
   ]
  },
  {
   "cell_type": "code",
   "execution_count": 3,
   "id": "58cf9612",
   "metadata": {
    "execution": {
     "iopub.execute_input": "2025-04-26T12:02:15.729374Z",
     "iopub.status.busy": "2025-04-26T12:02:15.729018Z",
     "iopub.status.idle": "2025-04-26T12:02:15.761654Z",
     "shell.execute_reply": "2025-04-26T12:02:15.760738Z"
    },
    "papermill": {
     "duration": 0.043859,
     "end_time": "2025-04-26T12:02:15.763301",
     "exception": false,
     "start_time": "2025-04-26T12:02:15.719442",
     "status": "completed"
    },
    "tags": []
   },
   "outputs": [
    {
     "data": {
      "text/html": [
       "<div>\n",
       "<style scoped>\n",
       "    .dataframe tbody tr th:only-of-type {\n",
       "        vertical-align: middle;\n",
       "    }\n",
       "\n",
       "    .dataframe tbody tr th {\n",
       "        vertical-align: top;\n",
       "    }\n",
       "\n",
       "    .dataframe thead th {\n",
       "        text-align: right;\n",
       "    }\n",
       "</style>\n",
       "<table border=\"1\" class=\"dataframe\">\n",
       "  <thead>\n",
       "    <tr style=\"text-align: right;\">\n",
       "      <th></th>\n",
       "      <th>Loan_ID</th>\n",
       "      <th>Gender</th>\n",
       "      <th>Married</th>\n",
       "      <th>Dependents</th>\n",
       "      <th>Education</th>\n",
       "      <th>Self_Employed</th>\n",
       "      <th>ApplicantIncome</th>\n",
       "      <th>CoapplicantIncome</th>\n",
       "      <th>LoanAmount</th>\n",
       "      <th>Loan_Amount_Term</th>\n",
       "      <th>Credit_History</th>\n",
       "      <th>Property_Area</th>\n",
       "      <th>Loan_Status</th>\n",
       "    </tr>\n",
       "  </thead>\n",
       "  <tbody>\n",
       "    <tr>\n",
       "      <th>0</th>\n",
       "      <td>LP001003</td>\n",
       "      <td>Male</td>\n",
       "      <td>Yes</td>\n",
       "      <td>1</td>\n",
       "      <td>Graduate</td>\n",
       "      <td>No</td>\n",
       "      <td>4583</td>\n",
       "      <td>1508.0</td>\n",
       "      <td>128.0</td>\n",
       "      <td>360.0</td>\n",
       "      <td>1.0</td>\n",
       "      <td>Rural</td>\n",
       "      <td>N</td>\n",
       "    </tr>\n",
       "    <tr>\n",
       "      <th>1</th>\n",
       "      <td>LP001005</td>\n",
       "      <td>Male</td>\n",
       "      <td>Yes</td>\n",
       "      <td>0</td>\n",
       "      <td>Graduate</td>\n",
       "      <td>Yes</td>\n",
       "      <td>3000</td>\n",
       "      <td>0.0</td>\n",
       "      <td>66.0</td>\n",
       "      <td>360.0</td>\n",
       "      <td>1.0</td>\n",
       "      <td>Urban</td>\n",
       "      <td>Y</td>\n",
       "    </tr>\n",
       "    <tr>\n",
       "      <th>2</th>\n",
       "      <td>LP001006</td>\n",
       "      <td>Male</td>\n",
       "      <td>Yes</td>\n",
       "      <td>0</td>\n",
       "      <td>Not Graduate</td>\n",
       "      <td>No</td>\n",
       "      <td>2583</td>\n",
       "      <td>2358.0</td>\n",
       "      <td>120.0</td>\n",
       "      <td>360.0</td>\n",
       "      <td>1.0</td>\n",
       "      <td>Urban</td>\n",
       "      <td>Y</td>\n",
       "    </tr>\n",
       "    <tr>\n",
       "      <th>3</th>\n",
       "      <td>LP001008</td>\n",
       "      <td>Male</td>\n",
       "      <td>No</td>\n",
       "      <td>0</td>\n",
       "      <td>Graduate</td>\n",
       "      <td>No</td>\n",
       "      <td>6000</td>\n",
       "      <td>0.0</td>\n",
       "      <td>141.0</td>\n",
       "      <td>360.0</td>\n",
       "      <td>1.0</td>\n",
       "      <td>Urban</td>\n",
       "      <td>Y</td>\n",
       "    </tr>\n",
       "    <tr>\n",
       "      <th>4</th>\n",
       "      <td>LP001013</td>\n",
       "      <td>Male</td>\n",
       "      <td>Yes</td>\n",
       "      <td>0</td>\n",
       "      <td>Not Graduate</td>\n",
       "      <td>No</td>\n",
       "      <td>2333</td>\n",
       "      <td>1516.0</td>\n",
       "      <td>95.0</td>\n",
       "      <td>360.0</td>\n",
       "      <td>1.0</td>\n",
       "      <td>Urban</td>\n",
       "      <td>Y</td>\n",
       "    </tr>\n",
       "  </tbody>\n",
       "</table>\n",
       "</div>"
      ],
      "text/plain": [
       "    Loan_ID Gender Married Dependents     Education Self_Employed  \\\n",
       "0  LP001003   Male     Yes          1      Graduate            No   \n",
       "1  LP001005   Male     Yes          0      Graduate           Yes   \n",
       "2  LP001006   Male     Yes          0  Not Graduate            No   \n",
       "3  LP001008   Male      No          0      Graduate            No   \n",
       "4  LP001013   Male     Yes          0  Not Graduate            No   \n",
       "\n",
       "   ApplicantIncome  CoapplicantIncome  LoanAmount  Loan_Amount_Term  \\\n",
       "0             4583             1508.0       128.0             360.0   \n",
       "1             3000                0.0        66.0             360.0   \n",
       "2             2583             2358.0       120.0             360.0   \n",
       "3             6000                0.0       141.0             360.0   \n",
       "4             2333             1516.0        95.0             360.0   \n",
       "\n",
       "   Credit_History Property_Area Loan_Status  \n",
       "0             1.0         Rural           N  \n",
       "1             1.0         Urban           Y  \n",
       "2             1.0         Urban           Y  \n",
       "3             1.0         Urban           Y  \n",
       "4             1.0         Urban           Y  "
      ]
     },
     "execution_count": 3,
     "metadata": {},
     "output_type": "execute_result"
    }
   ],
   "source": [
    "df.head()"
   ]
  },
  {
   "cell_type": "code",
   "execution_count": 4,
   "id": "90b46886",
   "metadata": {
    "execution": {
     "iopub.execute_input": "2025-04-26T12:02:15.781545Z",
     "iopub.status.busy": "2025-04-26T12:02:15.780695Z",
     "iopub.status.idle": "2025-04-26T12:02:15.795735Z",
     "shell.execute_reply": "2025-04-26T12:02:15.794854Z"
    },
    "papermill": {
     "duration": 0.025699,
     "end_time": "2025-04-26T12:02:15.797455",
     "exception": false,
     "start_time": "2025-04-26T12:02:15.771756",
     "status": "completed"
    },
    "tags": []
   },
   "outputs": [
    {
     "data": {
      "text/html": [
       "<div>\n",
       "<style scoped>\n",
       "    .dataframe tbody tr th:only-of-type {\n",
       "        vertical-align: middle;\n",
       "    }\n",
       "\n",
       "    .dataframe tbody tr th {\n",
       "        vertical-align: top;\n",
       "    }\n",
       "\n",
       "    .dataframe thead th {\n",
       "        text-align: right;\n",
       "    }\n",
       "</style>\n",
       "<table border=\"1\" class=\"dataframe\">\n",
       "  <thead>\n",
       "    <tr style=\"text-align: right;\">\n",
       "      <th></th>\n",
       "      <th>Loan_ID</th>\n",
       "      <th>Gender</th>\n",
       "      <th>Married</th>\n",
       "      <th>Dependents</th>\n",
       "      <th>Education</th>\n",
       "      <th>Self_Employed</th>\n",
       "      <th>ApplicantIncome</th>\n",
       "      <th>CoapplicantIncome</th>\n",
       "      <th>LoanAmount</th>\n",
       "      <th>Loan_Amount_Term</th>\n",
       "      <th>Credit_History</th>\n",
       "      <th>Property_Area</th>\n",
       "      <th>Loan_Status</th>\n",
       "    </tr>\n",
       "  </thead>\n",
       "  <tbody>\n",
       "    <tr>\n",
       "      <th>376</th>\n",
       "      <td>LP002953</td>\n",
       "      <td>Male</td>\n",
       "      <td>Yes</td>\n",
       "      <td>3+</td>\n",
       "      <td>Graduate</td>\n",
       "      <td>No</td>\n",
       "      <td>5703</td>\n",
       "      <td>0.0</td>\n",
       "      <td>128.0</td>\n",
       "      <td>360.0</td>\n",
       "      <td>1.0</td>\n",
       "      <td>Urban</td>\n",
       "      <td>Y</td>\n",
       "    </tr>\n",
       "    <tr>\n",
       "      <th>377</th>\n",
       "      <td>LP002974</td>\n",
       "      <td>Male</td>\n",
       "      <td>Yes</td>\n",
       "      <td>0</td>\n",
       "      <td>Graduate</td>\n",
       "      <td>No</td>\n",
       "      <td>3232</td>\n",
       "      <td>1950.0</td>\n",
       "      <td>108.0</td>\n",
       "      <td>360.0</td>\n",
       "      <td>1.0</td>\n",
       "      <td>Rural</td>\n",
       "      <td>Y</td>\n",
       "    </tr>\n",
       "    <tr>\n",
       "      <th>378</th>\n",
       "      <td>LP002978</td>\n",
       "      <td>Female</td>\n",
       "      <td>No</td>\n",
       "      <td>0</td>\n",
       "      <td>Graduate</td>\n",
       "      <td>No</td>\n",
       "      <td>2900</td>\n",
       "      <td>0.0</td>\n",
       "      <td>71.0</td>\n",
       "      <td>360.0</td>\n",
       "      <td>1.0</td>\n",
       "      <td>Rural</td>\n",
       "      <td>Y</td>\n",
       "    </tr>\n",
       "    <tr>\n",
       "      <th>379</th>\n",
       "      <td>LP002979</td>\n",
       "      <td>Male</td>\n",
       "      <td>Yes</td>\n",
       "      <td>3+</td>\n",
       "      <td>Graduate</td>\n",
       "      <td>No</td>\n",
       "      <td>4106</td>\n",
       "      <td>0.0</td>\n",
       "      <td>40.0</td>\n",
       "      <td>180.0</td>\n",
       "      <td>1.0</td>\n",
       "      <td>Rural</td>\n",
       "      <td>Y</td>\n",
       "    </tr>\n",
       "    <tr>\n",
       "      <th>380</th>\n",
       "      <td>LP002990</td>\n",
       "      <td>Female</td>\n",
       "      <td>No</td>\n",
       "      <td>0</td>\n",
       "      <td>Graduate</td>\n",
       "      <td>Yes</td>\n",
       "      <td>4583</td>\n",
       "      <td>0.0</td>\n",
       "      <td>133.0</td>\n",
       "      <td>360.0</td>\n",
       "      <td>0.0</td>\n",
       "      <td>Semiurban</td>\n",
       "      <td>N</td>\n",
       "    </tr>\n",
       "  </tbody>\n",
       "</table>\n",
       "</div>"
      ],
      "text/plain": [
       "      Loan_ID  Gender Married Dependents Education Self_Employed  \\\n",
       "376  LP002953    Male     Yes         3+  Graduate            No   \n",
       "377  LP002974    Male     Yes          0  Graduate            No   \n",
       "378  LP002978  Female      No          0  Graduate            No   \n",
       "379  LP002979    Male     Yes         3+  Graduate            No   \n",
       "380  LP002990  Female      No          0  Graduate           Yes   \n",
       "\n",
       "     ApplicantIncome  CoapplicantIncome  LoanAmount  Loan_Amount_Term  \\\n",
       "376             5703                0.0       128.0             360.0   \n",
       "377             3232             1950.0       108.0             360.0   \n",
       "378             2900                0.0        71.0             360.0   \n",
       "379             4106                0.0        40.0             180.0   \n",
       "380             4583                0.0       133.0             360.0   \n",
       "\n",
       "     Credit_History Property_Area Loan_Status  \n",
       "376             1.0         Urban           Y  \n",
       "377             1.0         Rural           Y  \n",
       "378             1.0         Rural           Y  \n",
       "379             1.0         Rural           Y  \n",
       "380             0.0     Semiurban           N  "
      ]
     },
     "execution_count": 4,
     "metadata": {},
     "output_type": "execute_result"
    }
   ],
   "source": [
    "df.tail()"
   ]
  },
  {
   "cell_type": "code",
   "execution_count": 5,
   "id": "11d32a65",
   "metadata": {
    "execution": {
     "iopub.execute_input": "2025-04-26T12:02:15.815982Z",
     "iopub.status.busy": "2025-04-26T12:02:15.815622Z",
     "iopub.status.idle": "2025-04-26T12:02:15.821319Z",
     "shell.execute_reply": "2025-04-26T12:02:15.820308Z"
    },
    "papermill": {
     "duration": 0.016381,
     "end_time": "2025-04-26T12:02:15.822826",
     "exception": false,
     "start_time": "2025-04-26T12:02:15.806445",
     "status": "completed"
    },
    "tags": []
   },
   "outputs": [
    {
     "name": "stdout",
     "output_type": "stream",
     "text": [
      " Num of rows : 381 \n",
      " Num of columns : 13\n"
     ]
    }
   ],
   "source": [
    "print(' Num of rows :',df.shape[0],'\\n','Num of columns :',df.shape[1])"
   ]
  },
  {
   "cell_type": "code",
   "execution_count": 6,
   "id": "defe0be4",
   "metadata": {
    "execution": {
     "iopub.execute_input": "2025-04-26T12:02:15.841051Z",
     "iopub.status.busy": "2025-04-26T12:02:15.840703Z",
     "iopub.status.idle": "2025-04-26T12:02:15.869040Z",
     "shell.execute_reply": "2025-04-26T12:02:15.867955Z"
    },
    "papermill": {
     "duration": 0.039196,
     "end_time": "2025-04-26T12:02:15.870648",
     "exception": false,
     "start_time": "2025-04-26T12:02:15.831452",
     "status": "completed"
    },
    "tags": []
   },
   "outputs": [
    {
     "data": {
      "text/html": [
       "<div>\n",
       "<style scoped>\n",
       "    .dataframe tbody tr th:only-of-type {\n",
       "        vertical-align: middle;\n",
       "    }\n",
       "\n",
       "    .dataframe tbody tr th {\n",
       "        vertical-align: top;\n",
       "    }\n",
       "\n",
       "    .dataframe thead th {\n",
       "        text-align: right;\n",
       "    }\n",
       "</style>\n",
       "<table border=\"1\" class=\"dataframe\">\n",
       "  <thead>\n",
       "    <tr style=\"text-align: right;\">\n",
       "      <th></th>\n",
       "      <th>ApplicantIncome</th>\n",
       "      <th>CoapplicantIncome</th>\n",
       "      <th>LoanAmount</th>\n",
       "      <th>Loan_Amount_Term</th>\n",
       "      <th>Credit_History</th>\n",
       "    </tr>\n",
       "  </thead>\n",
       "  <tbody>\n",
       "    <tr>\n",
       "      <th>count</th>\n",
       "      <td>381.000000</td>\n",
       "      <td>381.000000</td>\n",
       "      <td>381.000000</td>\n",
       "      <td>370.000000</td>\n",
       "      <td>351.000000</td>\n",
       "    </tr>\n",
       "    <tr>\n",
       "      <th>mean</th>\n",
       "      <td>3579.845144</td>\n",
       "      <td>1277.275381</td>\n",
       "      <td>104.986877</td>\n",
       "      <td>340.864865</td>\n",
       "      <td>0.837607</td>\n",
       "    </tr>\n",
       "    <tr>\n",
       "      <th>std</th>\n",
       "      <td>1419.813818</td>\n",
       "      <td>2340.818114</td>\n",
       "      <td>28.358464</td>\n",
       "      <td>68.549257</td>\n",
       "      <td>0.369338</td>\n",
       "    </tr>\n",
       "    <tr>\n",
       "      <th>min</th>\n",
       "      <td>150.000000</td>\n",
       "      <td>0.000000</td>\n",
       "      <td>9.000000</td>\n",
       "      <td>12.000000</td>\n",
       "      <td>0.000000</td>\n",
       "    </tr>\n",
       "    <tr>\n",
       "      <th>25%</th>\n",
       "      <td>2600.000000</td>\n",
       "      <td>0.000000</td>\n",
       "      <td>90.000000</td>\n",
       "      <td>360.000000</td>\n",
       "      <td>1.000000</td>\n",
       "    </tr>\n",
       "    <tr>\n",
       "      <th>50%</th>\n",
       "      <td>3333.000000</td>\n",
       "      <td>983.000000</td>\n",
       "      <td>110.000000</td>\n",
       "      <td>360.000000</td>\n",
       "      <td>1.000000</td>\n",
       "    </tr>\n",
       "    <tr>\n",
       "      <th>75%</th>\n",
       "      <td>4288.000000</td>\n",
       "      <td>2016.000000</td>\n",
       "      <td>127.000000</td>\n",
       "      <td>360.000000</td>\n",
       "      <td>1.000000</td>\n",
       "    </tr>\n",
       "    <tr>\n",
       "      <th>max</th>\n",
       "      <td>9703.000000</td>\n",
       "      <td>33837.000000</td>\n",
       "      <td>150.000000</td>\n",
       "      <td>480.000000</td>\n",
       "      <td>1.000000</td>\n",
       "    </tr>\n",
       "  </tbody>\n",
       "</table>\n",
       "</div>"
      ],
      "text/plain": [
       "       ApplicantIncome  CoapplicantIncome  LoanAmount  Loan_Amount_Term  \\\n",
       "count       381.000000         381.000000  381.000000        370.000000   \n",
       "mean       3579.845144        1277.275381  104.986877        340.864865   \n",
       "std        1419.813818        2340.818114   28.358464         68.549257   \n",
       "min         150.000000           0.000000    9.000000         12.000000   \n",
       "25%        2600.000000           0.000000   90.000000        360.000000   \n",
       "50%        3333.000000         983.000000  110.000000        360.000000   \n",
       "75%        4288.000000        2016.000000  127.000000        360.000000   \n",
       "max        9703.000000       33837.000000  150.000000        480.000000   \n",
       "\n",
       "       Credit_History  \n",
       "count      351.000000  \n",
       "mean         0.837607  \n",
       "std          0.369338  \n",
       "min          0.000000  \n",
       "25%          1.000000  \n",
       "50%          1.000000  \n",
       "75%          1.000000  \n",
       "max          1.000000  "
      ]
     },
     "execution_count": 6,
     "metadata": {},
     "output_type": "execute_result"
    }
   ],
   "source": [
    "df.describe()"
   ]
  },
  {
   "cell_type": "code",
   "execution_count": 7,
   "id": "6be80cf8",
   "metadata": {
    "execution": {
     "iopub.execute_input": "2025-04-26T12:02:15.889258Z",
     "iopub.status.busy": "2025-04-26T12:02:15.888937Z",
     "iopub.status.idle": "2025-04-26T12:02:15.913886Z",
     "shell.execute_reply": "2025-04-26T12:02:15.913062Z"
    },
    "papermill": {
     "duration": 0.036244,
     "end_time": "2025-04-26T12:02:15.915580",
     "exception": false,
     "start_time": "2025-04-26T12:02:15.879336",
     "status": "completed"
    },
    "tags": []
   },
   "outputs": [
    {
     "data": {
      "text/html": [
       "<div>\n",
       "<style scoped>\n",
       "    .dataframe tbody tr th:only-of-type {\n",
       "        vertical-align: middle;\n",
       "    }\n",
       "\n",
       "    .dataframe tbody tr th {\n",
       "        vertical-align: top;\n",
       "    }\n",
       "\n",
       "    .dataframe thead th {\n",
       "        text-align: right;\n",
       "    }\n",
       "</style>\n",
       "<table border=\"1\" class=\"dataframe\">\n",
       "  <thead>\n",
       "    <tr style=\"text-align: right;\">\n",
       "      <th></th>\n",
       "      <th>Loan_ID</th>\n",
       "      <th>Gender</th>\n",
       "      <th>Married</th>\n",
       "      <th>Dependents</th>\n",
       "      <th>Education</th>\n",
       "      <th>Self_Employed</th>\n",
       "      <th>Property_Area</th>\n",
       "      <th>Loan_Status</th>\n",
       "    </tr>\n",
       "  </thead>\n",
       "  <tbody>\n",
       "    <tr>\n",
       "      <th>count</th>\n",
       "      <td>381</td>\n",
       "      <td>376</td>\n",
       "      <td>381</td>\n",
       "      <td>373</td>\n",
       "      <td>381</td>\n",
       "      <td>360</td>\n",
       "      <td>381</td>\n",
       "      <td>381</td>\n",
       "    </tr>\n",
       "    <tr>\n",
       "      <th>unique</th>\n",
       "      <td>381</td>\n",
       "      <td>2</td>\n",
       "      <td>2</td>\n",
       "      <td>4</td>\n",
       "      <td>2</td>\n",
       "      <td>2</td>\n",
       "      <td>3</td>\n",
       "      <td>2</td>\n",
       "    </tr>\n",
       "    <tr>\n",
       "      <th>top</th>\n",
       "      <td>LP001003</td>\n",
       "      <td>Male</td>\n",
       "      <td>Yes</td>\n",
       "      <td>0</td>\n",
       "      <td>Graduate</td>\n",
       "      <td>No</td>\n",
       "      <td>Semiurban</td>\n",
       "      <td>Y</td>\n",
       "    </tr>\n",
       "    <tr>\n",
       "      <th>freq</th>\n",
       "      <td>1</td>\n",
       "      <td>291</td>\n",
       "      <td>228</td>\n",
       "      <td>234</td>\n",
       "      <td>278</td>\n",
       "      <td>325</td>\n",
       "      <td>149</td>\n",
       "      <td>271</td>\n",
       "    </tr>\n",
       "  </tbody>\n",
       "</table>\n",
       "</div>"
      ],
      "text/plain": [
       "         Loan_ID Gender Married Dependents Education Self_Employed  \\\n",
       "count        381    376     381        373       381           360   \n",
       "unique       381      2       2          4         2             2   \n",
       "top     LP001003   Male     Yes          0  Graduate            No   \n",
       "freq           1    291     228        234       278           325   \n",
       "\n",
       "       Property_Area Loan_Status  \n",
       "count            381         381  \n",
       "unique             3           2  \n",
       "top        Semiurban           Y  \n",
       "freq             149         271  "
      ]
     },
     "execution_count": 7,
     "metadata": {},
     "output_type": "execute_result"
    }
   ],
   "source": [
    "df.describe(include='object')"
   ]
  },
  {
   "cell_type": "code",
   "execution_count": 8,
   "id": "42c6ac31",
   "metadata": {
    "execution": {
     "iopub.execute_input": "2025-04-26T12:02:15.934259Z",
     "iopub.status.busy": "2025-04-26T12:02:15.933924Z",
     "iopub.status.idle": "2025-04-26T12:02:15.955151Z",
     "shell.execute_reply": "2025-04-26T12:02:15.953919Z"
    },
    "papermill": {
     "duration": 0.032874,
     "end_time": "2025-04-26T12:02:15.957143",
     "exception": false,
     "start_time": "2025-04-26T12:02:15.924269",
     "status": "completed"
    },
    "tags": []
   },
   "outputs": [
    {
     "name": "stdout",
     "output_type": "stream",
     "text": [
      "<class 'pandas.core.frame.DataFrame'>\n",
      "RangeIndex: 381 entries, 0 to 380\n",
      "Data columns (total 13 columns):\n",
      " #   Column             Non-Null Count  Dtype  \n",
      "---  ------             --------------  -----  \n",
      " 0   Loan_ID            381 non-null    object \n",
      " 1   Gender             376 non-null    object \n",
      " 2   Married            381 non-null    object \n",
      " 3   Dependents         373 non-null    object \n",
      " 4   Education          381 non-null    object \n",
      " 5   Self_Employed      360 non-null    object \n",
      " 6   ApplicantIncome    381 non-null    int64  \n",
      " 7   CoapplicantIncome  381 non-null    float64\n",
      " 8   LoanAmount         381 non-null    float64\n",
      " 9   Loan_Amount_Term   370 non-null    float64\n",
      " 10  Credit_History     351 non-null    float64\n",
      " 11  Property_Area      381 non-null    object \n",
      " 12  Loan_Status        381 non-null    object \n",
      "dtypes: float64(4), int64(1), object(8)\n",
      "memory usage: 38.8+ KB\n"
     ]
    }
   ],
   "source": [
    "df.info()"
   ]
  },
  {
   "cell_type": "markdown",
   "id": "162fe4ce",
   "metadata": {
    "papermill": {
     "duration": 0.008926,
     "end_time": "2025-04-26T12:02:15.974997",
     "exception": false,
     "start_time": "2025-04-26T12:02:15.966071",
     "status": "completed"
    },
    "tags": []
   },
   "source": [
    "# *Handel missing data and duplicates*"
   ]
  },
  {
   "cell_type": "code",
   "execution_count": 9,
   "id": "a72941d7",
   "metadata": {
    "execution": {
     "iopub.execute_input": "2025-04-26T12:02:15.994123Z",
     "iopub.status.busy": "2025-04-26T12:02:15.993747Z",
     "iopub.status.idle": "2025-04-26T12:02:16.002192Z",
     "shell.execute_reply": "2025-04-26T12:02:16.001204Z"
    },
    "papermill": {
     "duration": 0.019882,
     "end_time": "2025-04-26T12:02:16.003758",
     "exception": false,
     "start_time": "2025-04-26T12:02:15.983876",
     "status": "completed"
    },
    "tags": []
   },
   "outputs": [
    {
     "data": {
      "text/plain": [
       "0"
      ]
     },
     "execution_count": 9,
     "metadata": {},
     "output_type": "execute_result"
    }
   ],
   "source": [
    "df.duplicated().sum()"
   ]
  },
  {
   "cell_type": "code",
   "execution_count": 10,
   "id": "04d83c37",
   "metadata": {
    "execution": {
     "iopub.execute_input": "2025-04-26T12:02:16.023385Z",
     "iopub.status.busy": "2025-04-26T12:02:16.023073Z",
     "iopub.status.idle": "2025-04-26T12:02:16.030980Z",
     "shell.execute_reply": "2025-04-26T12:02:16.030145Z"
    },
    "papermill": {
     "duration": 0.019069,
     "end_time": "2025-04-26T12:02:16.032347",
     "exception": false,
     "start_time": "2025-04-26T12:02:16.013278",
     "status": "completed"
    },
    "tags": []
   },
   "outputs": [
    {
     "data": {
      "text/plain": [
       "Loan_ID               0\n",
       "Gender                5\n",
       "Married               0\n",
       "Dependents            8\n",
       "Education             0\n",
       "Self_Employed        21\n",
       "ApplicantIncome       0\n",
       "CoapplicantIncome     0\n",
       "LoanAmount            0\n",
       "Loan_Amount_Term     11\n",
       "Credit_History       30\n",
       "Property_Area         0\n",
       "Loan_Status           0\n",
       "dtype: int64"
      ]
     },
     "execution_count": 10,
     "metadata": {},
     "output_type": "execute_result"
    }
   ],
   "source": [
    "df.isnull().sum()"
   ]
  },
  {
   "cell_type": "code",
   "execution_count": 11,
   "id": "592f24e0",
   "metadata": {
    "execution": {
     "iopub.execute_input": "2025-04-26T12:02:16.052433Z",
     "iopub.status.busy": "2025-04-26T12:02:16.052106Z",
     "iopub.status.idle": "2025-04-26T12:02:16.058614Z",
     "shell.execute_reply": "2025-04-26T12:02:16.057595Z"
    },
    "papermill": {
     "duration": 0.018873,
     "end_time": "2025-04-26T12:02:16.060375",
     "exception": false,
     "start_time": "2025-04-26T12:02:16.041502",
     "status": "completed"
    },
    "tags": []
   },
   "outputs": [],
   "source": [
    "numerical_missing_data=['Loan_Amount_Term','Credit_History']\n",
    "for col in numerical_missing_data:\n",
    "    df[col]=df[col].fillna(df[col].mean())"
   ]
  },
  {
   "cell_type": "code",
   "execution_count": 12,
   "id": "c05f1726",
   "metadata": {
    "execution": {
     "iopub.execute_input": "2025-04-26T12:02:16.080179Z",
     "iopub.status.busy": "2025-04-26T12:02:16.079771Z",
     "iopub.status.idle": "2025-04-26T12:02:16.089018Z",
     "shell.execute_reply": "2025-04-26T12:02:16.087591Z"
    },
    "papermill": {
     "duration": 0.020933,
     "end_time": "2025-04-26T12:02:16.090706",
     "exception": false,
     "start_time": "2025-04-26T12:02:16.069773",
     "status": "completed"
    },
    "tags": []
   },
   "outputs": [],
   "source": [
    "textual_missing_data=['Gender','Dependents','Self_Employed']\n",
    "for col in textual_missing_data:\n",
    "    df[col]=df[col].fillna(df[col].mode()[0])"
   ]
  },
  {
   "cell_type": "code",
   "execution_count": 13,
   "id": "5eef9c38",
   "metadata": {
    "execution": {
     "iopub.execute_input": "2025-04-26T12:02:16.111621Z",
     "iopub.status.busy": "2025-04-26T12:02:16.110778Z",
     "iopub.status.idle": "2025-04-26T12:02:16.120043Z",
     "shell.execute_reply": "2025-04-26T12:02:16.118963Z"
    },
    "papermill": {
     "duration": 0.021881,
     "end_time": "2025-04-26T12:02:16.121660",
     "exception": false,
     "start_time": "2025-04-26T12:02:16.099779",
     "status": "completed"
    },
    "tags": []
   },
   "outputs": [
    {
     "data": {
      "text/plain": [
       "Loan_ID              0\n",
       "Gender               0\n",
       "Married              0\n",
       "Dependents           0\n",
       "Education            0\n",
       "Self_Employed        0\n",
       "ApplicantIncome      0\n",
       "CoapplicantIncome    0\n",
       "LoanAmount           0\n",
       "Loan_Amount_Term     0\n",
       "Credit_History       0\n",
       "Property_Area        0\n",
       "Loan_Status          0\n",
       "dtype: int64"
      ]
     },
     "execution_count": 13,
     "metadata": {},
     "output_type": "execute_result"
    }
   ],
   "source": [
    "df.isnull().sum()"
   ]
  },
  {
   "cell_type": "markdown",
   "id": "84171b36",
   "metadata": {
    "papermill": {
     "duration": 0.010565,
     "end_time": "2025-04-26T12:02:16.143005",
     "exception": false,
     "start_time": "2025-04-26T12:02:16.132440",
     "status": "completed"
    },
    "tags": []
   },
   "source": [
    "# *EDA*"
   ]
  },
  {
   "cell_type": "code",
   "execution_count": 14,
   "id": "d2937cf8",
   "metadata": {
    "execution": {
     "iopub.execute_input": "2025-04-26T12:02:16.230436Z",
     "iopub.status.busy": "2025-04-26T12:02:16.230098Z",
     "iopub.status.idle": "2025-04-26T12:02:16.414356Z",
     "shell.execute_reply": "2025-04-26T12:02:16.413323Z"
    },
    "papermill": {
     "duration": 0.195963,
     "end_time": "2025-04-26T12:02:16.415884",
     "exception": false,
     "start_time": "2025-04-26T12:02:16.219921",
     "status": "completed"
    },
    "tags": []
   },
   "outputs": [
    {
     "data": {
      "image/png": "[encoded data removed]",
      "text/plain": [
       "<Figure size 640x480 with 1 Axes>"
      ]
     },
     "metadata": {},
     "output_type": "display_data"
    }
   ],
   "source": [
    "# Overall approval rate\n",
    "approval_counts = df['Loan_Status'].value_counts()\n",
    "plt.pie(approval_counts, labels=approval_counts.index, autopct='%1.1f%%', colors=['#66b3ff','#99ff99'])\n",
    "plt.title('Overall Loan Approval Rate')\n",
    "plt.show()"
   ]
  },
  {
   "cell_type": "code",
   "execution_count": 15,
   "id": "451daec0",
   "metadata": {
    "execution": {
     "iopub.execute_input": "2025-04-26T12:02:16.436837Z",
     "iopub.status.busy": "2025-04-26T12:02:16.436481Z",
     "iopub.status.idle": "2025-04-26T12:02:16.696917Z",
     "shell.execute_reply": "2025-04-26T12:02:16.695886Z"
    },
    "papermill": {
     "duration": 0.272486,
     "end_time": "2025-04-26T12:02:16.698412",
     "exception": false,
     "start_time": "2025-04-26T12:02:16.425926",
     "status": "completed"
    },
    "tags": []
   },
   "outputs": [
    {
     "data": {
      "image/png": "[encoded data removed]",
      "text/plain": [
       "<Figure size 640x480 with 1 Axes>"
      ]
     },
     "metadata": {},
     "output_type": "display_data"
    }
   ],
   "source": [
    "# Approval by Gender\n",
    "gender_approval = pd.crosstab(df['Gender'], df['Loan_Status'], normalize='index') * 100\n",
    "gender_approval.plot(kind='bar', stacked=True, color=['#ff9999','#66b3ff'])\n",
    "plt.title('Approval Rate by Gender')\n",
    "plt.ylabel('Percentage')\n",
    "plt.xticks(rotation=0)\n",
    "plt.show()"
   ]
  },
  {
   "cell_type": "code",
   "execution_count": 16,
   "id": "2e4d817b",
   "metadata": {
    "execution": {
     "iopub.execute_input": "2025-04-26T12:02:16.719528Z",
     "iopub.status.busy": "2025-04-26T12:02:16.719202Z",
     "iopub.status.idle": "2025-04-26T12:02:16.903386Z",
     "shell.execute_reply": "2025-04-26T12:02:16.902253Z"
    },
    "papermill": {
     "duration": 0.196735,
     "end_time": "2025-04-26T12:02:16.905059",
     "exception": false,
     "start_time": "2025-04-26T12:02:16.708324",
     "status": "completed"
    },
    "tags": []
   },
   "outputs": [
    {
     "data": {
      "image/png": "[encoded data removed]",
      "text/plain": [
       "<Figure size 640x480 with 1 Axes>"
      ]
     },
     "metadata": {},
     "output_type": "display_data"
    }
   ],
   "source": [
    "# Approval by Marital Status\n",
    "married_approval = pd.crosstab(df['Married'], df['Loan_Status'], normalize='index') * 100\n",
    "married_approval.plot(kind='bar', stacked=True, color=['#ff9999','#66b3ff'])\n",
    "plt.title('Approval Rate by Marital Status')\n",
    "plt.ylabel('Percentage')\n",
    "plt.xticks(rotation=0)\n",
    "plt.show()"
   ]
  },
  {
   "cell_type": "code",
   "execution_count": 17,
   "id": "19ec9d13",
   "metadata": {
    "execution": {
     "iopub.execute_input": "2025-04-26T12:02:16.927143Z",
     "iopub.status.busy": "2025-04-26T12:02:16.926712Z",
     "iopub.status.idle": "2025-04-26T12:02:17.103921Z",
     "shell.execute_reply": "2025-04-26T12:02:17.102908Z"
    },
    "papermill": {
     "duration": 0.190339,
     "end_time": "2025-04-26T12:02:17.105816",
     "exception": false,
     "start_time": "2025-04-26T12:02:16.915477",
     "status": "completed"
    },
    "tags": []
   },
   "outputs": [
    {
     "data": {
      "image/png": "[encoded data removed]",
      "text/plain": [
       "<Figure size 640x480 with 1 Axes>"
      ]
     },
     "metadata": {},
     "output_type": "display_data"
    }
   ],
   "source": [
    "# Approval by Education\n",
    "edu_approval = pd.crosstab(df['Education'], df['Loan_Status'], normalize='index') * 100\n",
    "edu_approval.plot(kind='bar', stacked=True, color=['#ff9999','#66b3ff'])\n",
    "plt.title('Approval Rate by Education')\n",
    "plt.ylabel('Percentage')\n",
    "plt.xticks(rotation=0)\n",
    "plt.show()"
   ]
  },
  {
   "cell_type": "code",
   "execution_count": 18,
   "id": "ad78396a",
   "metadata": {
    "execution": {
     "iopub.execute_input": "2025-04-26T12:02:17.136568Z",
     "iopub.status.busy": "2025-04-26T12:02:17.135755Z",
     "iopub.status.idle": "2025-04-26T12:02:17.343078Z",
     "shell.execute_reply": "2025-04-26T12:02:17.341955Z"
    },
    "papermill": {
     "duration": 0.224048,
     "end_time": "2025-04-26T12:02:17.344928",
     "exception": false,
     "start_time": "2025-04-26T12:02:17.120880",
     "status": "completed"
    },
    "tags": []
   },
   "outputs": [
    {
     "data": {
      "image/png": "[encoded data removed]",
      "text/plain": [
       "<Figure size 640x480 with 1 Axes>"
      ]
     },
     "metadata": {},
     "output_type": "display_data"
    }
   ],
   "source": [
    "# Approval by Property Area\n",
    "property_approval = pd.crosstab(df['Property_Area'], df['Loan_Status'], normalize='index') * 100\n",
    "property_approval.plot(kind='bar', stacked=True, color=['#ff9999','#66b3ff'])\n",
    "plt.title('Approval Rate by Property Area')\n",
    "plt.ylabel('Percentage')\n",
    "plt.xticks(rotation=0)\n",
    "plt.show()"
   ]
  },
  {
   "cell_type": "code",
   "execution_count": 19,
   "id": "4b5154f5",
   "metadata": {
    "execution": {
     "iopub.execute_input": "2025-04-26T12:02:17.369537Z",
     "iopub.status.busy": "2025-04-26T12:02:17.369140Z",
     "iopub.status.idle": "2025-04-26T12:02:17.575658Z",
     "shell.execute_reply": "2025-04-26T12:02:17.574649Z"
    },
    "papermill": {
     "duration": 0.220911,
     "end_time": "2025-04-26T12:02:17.577376",
     "exception": false,
     "start_time": "2025-04-26T12:02:17.356465",
     "status": "completed"
    },
    "tags": []
   },
   "outputs": [
    {
     "data": {
      "image/png": "[encoded data removed]",
      "text/plain": [
       "<Figure size 640x480 with 1 Axes>"
      ]
     },
     "metadata": {},
     "output_type": "display_data"
    }
   ],
   "source": [
    "\n",
    "dependents_approval = pd.crosstab(df['Dependents'], df['Loan_Status'], normalize='index') * 100\n",
    "dependents_approval.plot(kind='bar', stacked=True, color=['#ff9999','#66b3ff'])\n",
    "plt.title('Approval Rate by Dependents')\n",
    "plt.ylabel('Percentage')\n",
    "plt.xticks(rotation=0)\n",
    "plt.show()"
   ]
  },
  {
   "cell_type": "code",
   "execution_count": 20,
   "id": "cbf93c04",
   "metadata": {
    "execution": {
     "iopub.execute_input": "2025-04-26T12:02:17.609732Z",
     "iopub.status.busy": "2025-04-26T12:02:17.609328Z",
     "iopub.status.idle": "2025-04-26T12:02:17.981153Z",
     "shell.execute_reply": "2025-04-26T12:02:17.980142Z"
    },
    "papermill": {
     "duration": 0.393407,
     "end_time": "2025-04-26T12:02:17.983036",
     "exception": false,
     "start_time": "2025-04-26T12:02:17.589629",
     "status": "completed"
    },
    "tags": []
   },
   "outputs": [
    {
     "name": "stderr",
     "output_type": "stream",
     "text": [
      "/usr/local/lib/python3.11/dist-packages/seaborn/_oldcore.py:1119: FutureWarning: use_inf_as_na option is deprecated and will be removed in a future version. Convert inf values to NaN before operating instead.\n",
      "  with pd.option_context('mode.use_inf_as_na', True):\n"
     ]
    },
    {
     "data": {
      "image/png": "[encoded data removed]",
      "text/plain": [
       "<Figure size 640x480 with 1 Axes>"
      ]
     },
     "metadata": {},
     "output_type": "display_data"
    }
   ],
   "source": [
    "# Coapplicant Income Distribution\n",
    "sns.histplot(df['CoapplicantIncome'], bins=30, kde=True, color='salmon')\n",
    "plt.title('Coapplicant Income Distribution')\n",
    "plt.xlabel('Coapplicant Income')\n",
    "plt.show()"
   ]
  },
  {
   "cell_type": "code",
   "execution_count": 21,
   "id": "0c1fecc2",
   "metadata": {
    "execution": {
     "iopub.execute_input": "2025-04-26T12:02:18.015167Z",
     "iopub.status.busy": "2025-04-26T12:02:18.014723Z",
     "iopub.status.idle": "2025-04-26T12:02:18.175524Z",
     "shell.execute_reply": "2025-04-26T12:02:18.174539Z"
    },
    "papermill": {
     "duration": 0.177626,
     "end_time": "2025-04-26T12:02:18.177346",
     "exception": false,
     "start_time": "2025-04-26T12:02:17.999720",
     "status": "completed"
    },
    "tags": []
   },
   "outputs": [
    {
     "data": {
      "image/png": "[encoded data removed]",
      "text/plain": [
       "<Figure size 640x480 with 1 Axes>"
      ]
     },
     "metadata": {},
     "output_type": "display_data"
    }
   ],
   "source": [
    "sns.boxplot(x='Loan_Status', y='ApplicantIncome', data=df, palette=['#ff9999','#66b3ff'])\n",
    "plt.title('Applicant Income by Loan Status')\n",
    "plt.show()\n"
   ]
  },
  {
   "cell_type": "code",
   "execution_count": 22,
   "id": "f4e5f959",
   "metadata": {
    "execution": {
     "iopub.execute_input": "2025-04-26T12:02:18.209669Z",
     "iopub.status.busy": "2025-04-26T12:02:18.209269Z",
     "iopub.status.idle": "2025-04-26T12:02:18.375090Z",
     "shell.execute_reply": "2025-04-26T12:02:18.374101Z"
    },
    "papermill": {
     "duration": 0.181358,
     "end_time": "2025-04-26T12:02:18.376766",
     "exception": false,
     "start_time": "2025-04-26T12:02:18.195408",
     "status": "completed"
    },
    "tags": []
   },
   "outputs": [
    {
     "data": {
      "image/png": "[encoded data removed]",
      "text/plain": [
       "<Figure size 640x480 with 1 Axes>"
      ]
     },
     "metadata": {},
     "output_type": "display_data"
    }
   ],
   "source": [
    "sns.boxplot(x='Loan_Status', y='CoapplicantIncome', data=df, palette=['#ff9999','#66b3ff'])\n",
    "plt.title('Coapplicant Income by Loan Status')\n",
    "plt.show()"
   ]
  },
  {
   "cell_type": "code",
   "execution_count": 23,
   "id": "38ff7473",
   "metadata": {
    "execution": {
     "iopub.execute_input": "2025-04-26T12:02:18.404876Z",
     "iopub.status.busy": "2025-04-26T12:02:18.404450Z",
     "iopub.status.idle": "2025-04-26T12:02:18.569712Z",
     "shell.execute_reply": "2025-04-26T12:02:18.568570Z"
    },
    "papermill": {
     "duration": 0.181571,
     "end_time": "2025-04-26T12:02:18.571581",
     "exception": false,
     "start_time": "2025-04-26T12:02:18.390010",
     "status": "completed"
    },
    "tags": []
   },
   "outputs": [
    {
     "data": {
      "image/png": "[encoded data removed]",
      "text/plain": [
       "<Figure size 640x480 with 1 Axes>"
      ]
     },
     "metadata": {},
     "output_type": "display_data"
    }
   ],
   "source": [
    "# Loan Amount vs Loan Status\n",
    "sns.boxplot(x='Loan_Status', y='LoanAmount', data=df, palette=['#ff9999','#66b3ff'])\n",
    "plt.title('Loan Amount by Loan Status')\n",
    "plt.show()"
   ]
  },
  {
   "cell_type": "code",
   "execution_count": 24,
   "id": "2b40f2fa",
   "metadata": {
    "execution": {
     "iopub.execute_input": "2025-04-26T12:02:18.601513Z",
     "iopub.status.busy": "2025-04-26T12:02:18.601189Z",
     "iopub.status.idle": "2025-04-26T12:02:18.814081Z",
     "shell.execute_reply": "2025-04-26T12:02:18.812765Z"
    },
    "papermill": {
     "duration": 0.229751,
     "end_time": "2025-04-26T12:02:18.815678",
     "exception": false,
     "start_time": "2025-04-26T12:02:18.585927",
     "status": "completed"
    },
    "tags": []
   },
   "outputs": [
    {
     "data": {
      "image/png": "[encoded data removed]",
      "text/plain": [
       "<Figure size 640x480 with 1 Axes>"
      ]
     },
     "metadata": {},
     "output_type": "display_data"
    }
   ],
   "source": [
    "# Credit History vs Loan Status\n",
    "credit_approval = pd.crosstab(df['Credit_History'], df['Loan_Status'], normalize='index') * 100\n",
    "credit_approval.plot(kind='bar', stacked=True, color=['#ff9999','#66b3ff'])\n",
    "plt.title('Approval Rate by Credit History')\n",
    "plt.ylabel('Percentage')\n",
    "plt.xticks([0, 1], ['Bad Credit (0)', 'Good Credit (1)'], rotation=0)\n",
    "plt.show()"
   ]
  },
  {
   "cell_type": "code",
   "execution_count": 25,
   "id": "a4713198",
   "metadata": {
    "execution": {
     "iopub.execute_input": "2025-04-26T12:02:18.845080Z",
     "iopub.status.busy": "2025-04-26T12:02:18.844709Z",
     "iopub.status.idle": "2025-04-26T12:02:19.054825Z",
     "shell.execute_reply": "2025-04-26T12:02:19.053633Z"
    },
    "papermill": {
     "duration": 0.226789,
     "end_time": "2025-04-26T12:02:19.056493",
     "exception": false,
     "start_time": "2025-04-26T12:02:18.829704",
     "status": "completed"
    },
    "tags": []
   },
   "outputs": [
    {
     "data": {
      "image/png": "[encoded data removed]",
      "text/plain": [
       "<Figure size 640x480 with 1 Axes>"
      ]
     },
     "metadata": {},
     "output_type": "display_data"
    }
   ],
   "source": [
    "# Property Area vs Loan Status\n",
    "sns.countplot(x='Property_Area', hue='Loan_Status', data=df, \n",
    "              palette=['#ff9999','#66b3ff'], order=df['Property_Area'].value_counts().index)\n",
    "plt.title('Loan Status by Property Area')\n",
    "plt.ylabel('Count')\n",
    "\n",
    "plt.tight_layout()\n",
    "plt.show()"
   ]
  },
  {
   "cell_type": "code",
   "execution_count": 26,
   "id": "a01b25af",
   "metadata": {
    "execution": {
     "iopub.execute_input": "2025-04-26T12:02:19.087567Z",
     "iopub.status.busy": "2025-04-26T12:02:19.086683Z",
     "iopub.status.idle": "2025-04-26T12:02:19.272068Z",
     "shell.execute_reply": "2025-04-26T12:02:19.270903Z"
    },
    "papermill": {
     "duration": 0.202915,
     "end_time": "2025-04-26T12:02:19.273926",
     "exception": false,
     "start_time": "2025-04-26T12:02:19.071011",
     "status": "completed"
    },
    "tags": []
   },
   "outputs": [
    {
     "data": {
      "image/png": "[encoded data removed]",
      "text/plain": [
       "<Figure size 640x480 with 1 Axes>"
      ]
     },
     "metadata": {},
     "output_type": "display_data"
    }
   ],
   "source": [
    "# Employment vs Loan Status\n",
    "sns.countplot(x='Self_Employed', hue='Loan_Status', data=df, palette=['#ff9999','#66b3ff'])\n",
    "plt.title('Loan Status by Employment Type')\n",
    "plt.ylabel('Count')\n",
    "\n",
    "plt.show()"
   ]
  },
  {
   "cell_type": "markdown",
   "id": "50e00073",
   "metadata": {
    "papermill": {
     "duration": 0.014947,
     "end_time": "2025-04-26T12:02:19.306539",
     "exception": false,
     "start_time": "2025-04-26T12:02:19.291592",
     "status": "completed"
    },
    "tags": []
   },
   "source": [
    "# *Data formating*"
   ]
  },
  {
   "cell_type": "code",
   "execution_count": 27,
   "id": "6129f086",
   "metadata": {
    "execution": {
     "iopub.execute_input": "2025-04-26T12:02:19.338113Z",
     "iopub.status.busy": "2025-04-26T12:02:19.337742Z",
     "iopub.status.idle": "2025-04-26T12:02:19.350008Z",
     "shell.execute_reply": "2025-04-26T12:02:19.348727Z"
    },
    "papermill": {
     "duration": 0.029667,
     "end_time": "2025-04-26T12:02:19.351654",
     "exception": false,
     "start_time": "2025-04-26T12:02:19.321987",
     "status": "completed"
    },
    "tags": []
   },
   "outputs": [
    {
     "name": "stdout",
     "output_type": "stream",
     "text": [
      "<class 'pandas.core.frame.DataFrame'>\n",
      "RangeIndex: 381 entries, 0 to 380\n",
      "Data columns (total 13 columns):\n",
      " #   Column             Non-Null Count  Dtype  \n",
      "---  ------             --------------  -----  \n",
      " 0   Loan_ID            381 non-null    object \n",
      " 1   Gender             381 non-null    object \n",
      " 2   Married            381 non-null    object \n",
      " 3   Dependents         381 non-null    object \n",
      " 4   Education          381 non-null    object \n",
      " 5   Self_Employed      381 non-null    object \n",
      " 6   ApplicantIncome    381 non-null    int64  \n",
      " 7   CoapplicantIncome  381 non-null    float64\n",
      " 8   LoanAmount         381 non-null    float64\n",
      " 9   Loan_Amount_Term   381 non-null    float64\n",
      " 10  Credit_History     381 non-null    float64\n",
      " 11  Property_Area      381 non-null    object \n",
      " 12  Loan_Status        381 non-null    object \n",
      "dtypes: float64(4), int64(1), object(8)\n",
      "memory usage: 38.8+ KB\n"
     ]
    }
   ],
   "source": [
    "df.info()"
   ]
  },
  {
   "cell_type": "code",
   "execution_count": 28,
   "id": "2bca5b40",
   "metadata": {
    "execution": {
     "iopub.execute_input": "2025-04-26T12:02:19.384003Z",
     "iopub.status.busy": "2025-04-26T12:02:19.383635Z",
     "iopub.status.idle": "2025-04-26T12:02:19.391341Z",
     "shell.execute_reply": "2025-04-26T12:02:19.390269Z"
    },
    "papermill": {
     "duration": 0.025909,
     "end_time": "2025-04-26T12:02:19.393300",
     "exception": false,
     "start_time": "2025-04-26T12:02:19.367391",
     "status": "completed"
    },
    "tags": []
   },
   "outputs": [
    {
     "data": {
      "text/plain": [
       "381"
      ]
     },
     "execution_count": 28,
     "metadata": {},
     "output_type": "execute_result"
    }
   ],
   "source": [
    "df['Loan_ID'].nunique()"
   ]
  },
  {
   "cell_type": "code",
   "execution_count": 29,
   "id": "b78b3c4b",
   "metadata": {
    "execution": {
     "iopub.execute_input": "2025-04-26T12:02:19.436503Z",
     "iopub.status.busy": "2025-04-26T12:02:19.434763Z",
     "iopub.status.idle": "2025-04-26T12:02:19.446064Z",
     "shell.execute_reply": "2025-04-26T12:02:19.444749Z"
    },
    "papermill": {
     "duration": 0.032966,
     "end_time": "2025-04-26T12:02:19.448683",
     "exception": false,
     "start_time": "2025-04-26T12:02:19.415717",
     "status": "completed"
    },
    "tags": []
   },
   "outputs": [],
   "source": [
    "df.drop(['Loan_ID','Property_Area'],axis=1,inplace=True)"
   ]
  },
  {
   "cell_type": "code",
   "execution_count": 30,
   "id": "d9918b27",
   "metadata": {
    "execution": {
     "iopub.execute_input": "2025-04-26T12:02:19.504478Z",
     "iopub.status.busy": "2025-04-26T12:02:19.503830Z",
     "iopub.status.idle": "2025-04-26T12:02:19.516938Z",
     "shell.execute_reply": "2025-04-26T12:02:19.515567Z"
    },
    "papermill": {
     "duration": 0.04441,
     "end_time": "2025-04-26T12:02:19.519075",
     "exception": false,
     "start_time": "2025-04-26T12:02:19.474665",
     "status": "completed"
    },
    "tags": []
   },
   "outputs": [
    {
     "name": "stdout",
     "output_type": "stream",
     "text": [
      "<class 'pandas.core.frame.DataFrame'>\n",
      "RangeIndex: 381 entries, 0 to 380\n",
      "Data columns (total 11 columns):\n",
      " #   Column             Non-Null Count  Dtype  \n",
      "---  ------             --------------  -----  \n",
      " 0   Gender             381 non-null    object \n",
      " 1   Married            381 non-null    object \n",
      " 2   Dependents         381 non-null    object \n",
      " 3   Education          381 non-null    object \n",
      " 4   Self_Employed      381 non-null    object \n",
      " 5   ApplicantIncome    381 non-null    int64  \n",
      " 6   CoapplicantIncome  381 non-null    float64\n",
      " 7   LoanAmount         381 non-null    float64\n",
      " 8   Loan_Amount_Term   381 non-null    float64\n",
      " 9   Credit_History     381 non-null    float64\n",
      " 10  Loan_Status        381 non-null    object \n",
      "dtypes: float64(4), int64(1), object(6)\n",
      "memory usage: 32.9+ KB\n"
     ]
    }
   ],
   "source": [
    "df.info()"
   ]
  },
  {
   "cell_type": "code",
   "execution_count": 31,
   "id": "2c71e3d5",
   "metadata": {
    "execution": {
     "iopub.execute_input": "2025-04-26T12:02:19.552969Z",
     "iopub.status.busy": "2025-04-26T12:02:19.552042Z",
     "iopub.status.idle": "2025-04-26T12:02:19.559584Z",
     "shell.execute_reply": "2025-04-26T12:02:19.558749Z"
    },
    "papermill": {
     "duration": 0.025382,
     "end_time": "2025-04-26T12:02:19.561170",
     "exception": false,
     "start_time": "2025-04-26T12:02:19.535788",
     "status": "completed"
    },
    "tags": []
   },
   "outputs": [
    {
     "data": {
      "text/plain": [
       "Dependents\n",
       "0     242\n",
       "2      59\n",
       "1      52\n",
       "3+     28\n",
       "Name: count, dtype: int64"
      ]
     },
     "execution_count": 31,
     "metadata": {},
     "output_type": "execute_result"
    }
   ],
   "source": [
    "df['Dependents'].value_counts()"
   ]
  },
  {
   "cell_type": "markdown",
   "id": "76bdee62",
   "metadata": {
    "papermill": {
     "duration": 0.015506,
     "end_time": "2025-04-26T12:02:19.591606",
     "exception": false,
     "start_time": "2025-04-26T12:02:19.576100",
     "status": "completed"
    },
    "tags": []
   },
   "source": [
    "# *Data Preprocessings*"
   ]
  },
  {
   "cell_type": "code",
   "execution_count": 32,
   "id": "bf3125b8",
   "metadata": {
    "execution": {
     "iopub.execute_input": "2025-04-26T12:02:19.623983Z",
     "iopub.status.busy": "2025-04-26T12:02:19.623626Z",
     "iopub.status.idle": "2025-04-26T12:02:19.629568Z",
     "shell.execute_reply": "2025-04-26T12:02:19.628541Z"
    },
    "papermill": {
     "duration": 0.024351,
     "end_time": "2025-04-26T12:02:19.631306",
     "exception": false,
     "start_time": "2025-04-26T12:02:19.606955",
     "status": "completed"
    },
    "tags": []
   },
   "outputs": [],
   "source": [
    "# Encoding\n",
    "encoding={\n",
    "    'Gender': {'Male':1 , 'Female': 0}, \n",
    "    'Married': {'Yes': 1, 'No': 0},\n",
    "    'Dependents': {'0':0, '1':1, '2': 2, '3+': 4},\n",
    "    'Education': {'Graduate': 1, 'Not Graduate': 0},\n",
    "    'Self_Employed': {'Yes': 1, 'No': 0},\n",
    "    'Loan_Status': {'Y': 1, 'N': 0}\n",
    "}"
   ]
  },
  {
   "cell_type": "code",
   "execution_count": 33,
   "id": "75f82c76",
   "metadata": {
    "execution": {
     "iopub.execute_input": "2025-04-26T12:02:19.664247Z",
     "iopub.status.busy": "2025-04-26T12:02:19.663893Z",
     "iopub.status.idle": "2025-04-26T12:02:19.674922Z",
     "shell.execute_reply": "2025-04-26T12:02:19.674033Z"
    },
    "papermill": {
     "duration": 0.03024,
     "end_time": "2025-04-26T12:02:19.676637",
     "exception": false,
     "start_time": "2025-04-26T12:02:19.646397",
     "status": "completed"
    },
    "tags": []
   },
   "outputs": [
    {
     "name": "stderr",
     "output_type": "stream",
     "text": [
      "/tmp/ipykernel_13/90793572.py:1: FutureWarning: Downcasting behavior in `replace` is deprecated and will be removed in a future version. To retain the old behavior, explicitly call `result.infer_objects(copy=False)`. To opt-in to the future behavior, set `pd.set_option('future.no_silent_downcasting', True)`\n",
      "  df.replace(encoding, inplace=True)\n"
     ]
    }
   ],
   "source": [
    "\n",
    "df.replace(encoding, inplace=True)"
   ]
  },
  {
   "cell_type": "code",
   "execution_count": 34,
   "id": "e3226b7e",
   "metadata": {
    "execution": {
     "iopub.execute_input": "2025-04-26T12:02:19.708643Z",
     "iopub.status.busy": "2025-04-26T12:02:19.708354Z",
     "iopub.status.idle": "2025-04-26T12:02:19.722508Z",
     "shell.execute_reply": "2025-04-26T12:02:19.721473Z"
    },
    "papermill": {
     "duration": 0.032612,
     "end_time": "2025-04-26T12:02:19.724204",
     "exception": false,
     "start_time": "2025-04-26T12:02:19.691592",
     "status": "completed"
    },
    "tags": []
   },
   "outputs": [
    {
     "data": {
      "text/html": [
       "<div>\n",
       "<style scoped>\n",
       "    .dataframe tbody tr th:only-of-type {\n",
       "        vertical-align: middle;\n",
       "    }\n",
       "\n",
       "    .dataframe tbody tr th {\n",
       "        vertical-align: top;\n",
       "    }\n",
       "\n",
       "    .dataframe thead th {\n",
       "        text-align: right;\n",
       "    }\n",
       "</style>\n",
       "<table border=\"1\" class=\"dataframe\">\n",
       "  <thead>\n",
       "    <tr style=\"text-align: right;\">\n",
       "      <th></th>\n",
       "      <th>Gender</th>\n",
       "      <th>Married</th>\n",
       "      <th>Dependents</th>\n",
       "      <th>Education</th>\n",
       "      <th>Self_Employed</th>\n",
       "      <th>ApplicantIncome</th>\n",
       "      <th>CoapplicantIncome</th>\n",
       "      <th>LoanAmount</th>\n",
       "      <th>Loan_Amount_Term</th>\n",
       "      <th>Credit_History</th>\n",
       "      <th>Loan_Status</th>\n",
       "    </tr>\n",
       "  </thead>\n",
       "  <tbody>\n",
       "    <tr>\n",
       "      <th>0</th>\n",
       "      <td>1</td>\n",
       "      <td>1</td>\n",
       "      <td>1</td>\n",
       "      <td>1</td>\n",
       "      <td>0</td>\n",
       "      <td>4583</td>\n",
       "      <td>1508.0</td>\n",
       "      <td>128.0</td>\n",
       "      <td>360.0</td>\n",
       "      <td>1.0</td>\n",
       "      <td>0</td>\n",
       "    </tr>\n",
       "    <tr>\n",
       "      <th>1</th>\n",
       "      <td>1</td>\n",
       "      <td>1</td>\n",
       "      <td>0</td>\n",
       "      <td>1</td>\n",
       "      <td>1</td>\n",
       "      <td>3000</td>\n",
       "      <td>0.0</td>\n",
       "      <td>66.0</td>\n",
       "      <td>360.0</td>\n",
       "      <td>1.0</td>\n",
       "      <td>1</td>\n",
       "    </tr>\n",
       "    <tr>\n",
       "      <th>2</th>\n",
       "      <td>1</td>\n",
       "      <td>1</td>\n",
       "      <td>0</td>\n",
       "      <td>0</td>\n",
       "      <td>0</td>\n",
       "      <td>2583</td>\n",
       "      <td>2358.0</td>\n",
       "      <td>120.0</td>\n",
       "      <td>360.0</td>\n",
       "      <td>1.0</td>\n",
       "      <td>1</td>\n",
       "    </tr>\n",
       "    <tr>\n",
       "      <th>3</th>\n",
       "      <td>1</td>\n",
       "      <td>0</td>\n",
       "      <td>0</td>\n",
       "      <td>1</td>\n",
       "      <td>0</td>\n",
       "      <td>6000</td>\n",
       "      <td>0.0</td>\n",
       "      <td>141.0</td>\n",
       "      <td>360.0</td>\n",
       "      <td>1.0</td>\n",
       "      <td>1</td>\n",
       "    </tr>\n",
       "    <tr>\n",
       "      <th>4</th>\n",
       "      <td>1</td>\n",
       "      <td>1</td>\n",
       "      <td>0</td>\n",
       "      <td>0</td>\n",
       "      <td>0</td>\n",
       "      <td>2333</td>\n",
       "      <td>1516.0</td>\n",
       "      <td>95.0</td>\n",
       "      <td>360.0</td>\n",
       "      <td>1.0</td>\n",
       "      <td>1</td>\n",
       "    </tr>\n",
       "  </tbody>\n",
       "</table>\n",
       "</div>"
      ],
      "text/plain": [
       "   Gender  Married  Dependents  Education  Self_Employed  ApplicantIncome  \\\n",
       "0       1        1           1          1              0             4583   \n",
       "1       1        1           0          1              1             3000   \n",
       "2       1        1           0          0              0             2583   \n",
       "3       1        0           0          1              0             6000   \n",
       "4       1        1           0          0              0             2333   \n",
       "\n",
       "   CoapplicantIncome  LoanAmount  Loan_Amount_Term  Credit_History  \\\n",
       "0             1508.0       128.0             360.0             1.0   \n",
       "1                0.0        66.0             360.0             1.0   \n",
       "2             2358.0       120.0             360.0             1.0   \n",
       "3                0.0       141.0             360.0             1.0   \n",
       "4             1516.0        95.0             360.0             1.0   \n",
       "\n",
       "   Loan_Status  \n",
       "0            0  \n",
       "1            1  \n",
       "2            1  \n",
       "3            1  \n",
       "4            1  "
      ]
     },
     "execution_count": 34,
     "metadata": {},
     "output_type": "execute_result"
    }
   ],
   "source": [
    "df.head()"
   ]
  },
  {
   "cell_type": "code",
   "execution_count": 35,
   "id": "4e25a9c6",
   "metadata": {
    "execution": {
     "iopub.execute_input": "2025-04-26T12:02:19.757541Z",
     "iopub.status.busy": "2025-04-26T12:02:19.756694Z",
     "iopub.status.idle": "2025-04-26T12:02:19.767890Z",
     "shell.execute_reply": "2025-04-26T12:02:19.766631Z"
    },
    "papermill": {
     "duration": 0.029613,
     "end_time": "2025-04-26T12:02:19.769558",
     "exception": false,
     "start_time": "2025-04-26T12:02:19.739945",
     "status": "completed"
    },
    "tags": []
   },
   "outputs": [
    {
     "name": "stdout",
     "output_type": "stream",
     "text": [
      "<class 'pandas.core.frame.DataFrame'>\n",
      "RangeIndex: 381 entries, 0 to 380\n",
      "Data columns (total 11 columns):\n",
      " #   Column             Non-Null Count  Dtype  \n",
      "---  ------             --------------  -----  \n",
      " 0   Gender             381 non-null    int64  \n",
      " 1   Married            381 non-null    int64  \n",
      " 2   Dependents         381 non-null    int64  \n",
      " 3   Education          381 non-null    int64  \n",
      " 4   Self_Employed      381 non-null    int64  \n",
      " 5   ApplicantIncome    381 non-null    int64  \n",
      " 6   CoapplicantIncome  381 non-null    float64\n",
      " 7   LoanAmount         381 non-null    float64\n",
      " 8   Loan_Amount_Term   381 non-null    float64\n",
      " 9   Credit_History     381 non-null    float64\n",
      " 10  Loan_Status        381 non-null    int64  \n",
      "dtypes: float64(4), int64(7)\n",
      "memory usage: 32.9 KB\n"
     ]
    }
   ],
   "source": [
    "df.info()"
   ]
  },
  {
   "cell_type": "code",
   "execution_count": 36,
   "id": "9b927ef6",
   "metadata": {
    "execution": {
     "iopub.execute_input": "2025-04-26T12:02:19.803039Z",
     "iopub.status.busy": "2025-04-26T12:02:19.802672Z",
     "iopub.status.idle": "2025-04-26T12:02:19.818032Z",
     "shell.execute_reply": "2025-04-26T12:02:19.816996Z"
    },
    "papermill": {
     "duration": 0.03397,
     "end_time": "2025-04-26T12:02:19.819646",
     "exception": false,
     "start_time": "2025-04-26T12:02:19.785676",
     "status": "completed"
    },
    "tags": []
   },
   "outputs": [
    {
     "name": "stdout",
     "output_type": "stream",
     "text": [
      "Gender                  0.0\n",
      "Married                 1.0\n",
      "Dependents              1.0\n",
      "Education               1.0\n",
      "Self_Employed           0.0\n",
      "ApplicantIncome      1688.0\n",
      "CoapplicantIncome    2016.0\n",
      "LoanAmount             37.0\n",
      "Loan_Amount_Term        0.0\n",
      "Credit_History          0.0\n",
      "Loan_Status             1.0\n",
      "dtype: float64\n"
     ]
    }
   ],
   "source": [
    "# Outliers \n",
    "Q1=df.quantile(0.25)\n",
    "Q3=df.quantile(0.75)\n",
    "IQR=Q3-Q1\n",
    "print(IQR)"
   ]
  },
  {
   "cell_type": "code",
   "execution_count": 37,
   "id": "ceed391f",
   "metadata": {
    "execution": {
     "iopub.execute_input": "2025-04-26T12:02:19.852695Z",
     "iopub.status.busy": "2025-04-26T12:02:19.852416Z",
     "iopub.status.idle": "2025-04-26T12:02:19.863621Z",
     "shell.execute_reply": "2025-04-26T12:02:19.862593Z"
    },
    "papermill": {
     "duration": 0.030108,
     "end_time": "2025-04-26T12:02:19.865600",
     "exception": false,
     "start_time": "2025-04-26T12:02:19.835492",
     "status": "completed"
    },
    "tags": []
   },
   "outputs": [
    {
     "name": "stdout",
     "output_type": "stream",
     "text": [
      "Num of Rows after removing outliers : 155\n"
     ]
    }
   ],
   "source": [
    "# Removing Outliers\n",
    "lower_bound=Q1-1.5*IQR\n",
    "upper_bound=Q3+1.5*IQR\n",
    "df=df[~((df<lower_bound)| (df>upper_bound)).any(axis=1)]\n",
    "print('Num of Rows after removing outliers :',df.shape[0])"
   ]
  },
  {
   "cell_type": "code",
   "execution_count": 38,
   "id": "563f8dc9",
   "metadata": {
    "execution": {
     "iopub.execute_input": "2025-04-26T12:02:19.898189Z",
     "iopub.status.busy": "2025-04-26T12:02:19.897846Z",
     "iopub.status.idle": "2025-04-26T12:02:19.903988Z",
     "shell.execute_reply": "2025-04-26T12:02:19.902979Z"
    },
    "papermill": {
     "duration": 0.024327,
     "end_time": "2025-04-26T12:02:19.905465",
     "exception": false,
     "start_time": "2025-04-26T12:02:19.881138",
     "status": "completed"
    },
    "tags": []
   },
   "outputs": [],
   "source": [
    "X=df.drop('Loan_Status',axis=1)\n",
    "Y=df['Loan_Status']"
   ]
  },
  {
   "cell_type": "code",
   "execution_count": 39,
   "id": "46b532a0",
   "metadata": {
    "execution": {
     "iopub.execute_input": "2025-04-26T12:02:19.939644Z",
     "iopub.status.busy": "2025-04-26T12:02:19.939308Z",
     "iopub.status.idle": "2025-04-26T12:02:19.947671Z",
     "shell.execute_reply": "2025-04-26T12:02:19.946354Z"
    },
    "papermill": {
     "duration": 0.027991,
     "end_time": "2025-04-26T12:02:19.949386",
     "exception": false,
     "start_time": "2025-04-26T12:02:19.921395",
     "status": "completed"
    },
    "tags": []
   },
   "outputs": [],
   "source": [
    "X_train,X_test,Y_train,Y_test=train_test_split(X,Y,test_size=0.3)"
   ]
  },
  {
   "cell_type": "code",
   "execution_count": 40,
   "id": "6ff6da3b",
   "metadata": {
    "execution": {
     "iopub.execute_input": "2025-04-26T12:02:19.981858Z",
     "iopub.status.busy": "2025-04-26T12:02:19.981542Z",
     "iopub.status.idle": "2025-04-26T12:02:19.987582Z",
     "shell.execute_reply": "2025-04-26T12:02:19.986159Z"
    },
    "papermill": {
     "duration": 0.024471,
     "end_time": "2025-04-26T12:02:19.989232",
     "exception": false,
     "start_time": "2025-04-26T12:02:19.964761",
     "status": "completed"
    },
    "tags": []
   },
   "outputs": [
    {
     "name": "stdout",
     "output_type": "stream",
     "text": [
      "Shape of X_Train (108, 10)\n",
      "Shape of X_Test (47, 10)\n",
      "Shape of Y_Train (108,)\n",
      "Shape of Y_Test (47,)\n"
     ]
    }
   ],
   "source": [
    "# print shapes of the datasets\n",
    "print(f'Shape of X_Train {X_train.shape}')\n",
    "print(f'Shape of X_Test {X_test.shape}')\n",
    "print(f'Shape of Y_Train {Y_train.shape}')\n",
    "print(f'Shape of Y_Test {Y_test.shape}')"
   ]
  },
  {
   "cell_type": "markdown",
   "id": "77edbcb9",
   "metadata": {
    "papermill": {
     "duration": 0.016997,
     "end_time": "2025-04-26T12:02:20.021942",
     "exception": false,
     "start_time": "2025-04-26T12:02:20.004945",
     "status": "completed"
    },
    "tags": []
   },
   "source": [
    "# *Modelling*"
   ]
  },
  {
   "cell_type": "code",
   "execution_count": 41,
   "id": "191e2ec7",
   "metadata": {
    "execution": {
     "iopub.execute_input": "2025-04-26T12:02:20.055716Z",
     "iopub.status.busy": "2025-04-26T12:02:20.055416Z",
     "iopub.status.idle": "2025-04-26T12:02:20.061215Z",
     "shell.execute_reply": "2025-04-26T12:02:20.059971Z"
    },
    "papermill": {
     "duration": 0.025215,
     "end_time": "2025-04-26T12:02:20.062875",
     "exception": false,
     "start_time": "2025-04-26T12:02:20.037660",
     "status": "completed"
    },
    "tags": []
   },
   "outputs": [],
   "source": [
    "models_list=[\n",
    "    LogisticRegression(),\n",
    "    DecisionTreeClassifier(),\n",
    "    KNeighborsClassifier(),\n",
    "    RandomForestClassifier(),\n",
    "    GradientBoostingClassifier(),\n",
    "    BaggingClassifier(),\n",
    "    XGBClassifier(),\n",
    "]"
   ]
  },
  {
   "cell_type": "code",
   "execution_count": 42,
   "id": "ceba2908",
   "metadata": {
    "execution": {
     "iopub.execute_input": "2025-04-26T12:02:20.096036Z",
     "iopub.status.busy": "2025-04-26T12:02:20.095596Z",
     "iopub.status.idle": "2025-04-26T12:02:20.103174Z",
     "shell.execute_reply": "2025-04-26T12:02:20.101646Z"
    },
    "papermill": {
     "duration": 0.025629,
     "end_time": "2025-04-26T12:02:20.104794",
     "exception": false,
     "start_time": "2025-04-26T12:02:20.079165",
     "status": "completed"
    },
    "tags": []
   },
   "outputs": [],
   "source": [
    "model_hyperparameters={\n",
    "   'logistic' :{\n",
    "    'C': [0.001, 0.01, 0.1, 1, 10, 100],\n",
    "    'max_iter': [1000, 200, 500]\n",
    "   },\n",
    "   \n",
    "   'dt' : {\n",
    "    'criterion': ['gini', 'entropy'],\n",
    "    'max_depth': [None, 5, 10, 20, 30],\n",
    "   },\n",
    "   \n",
    "   'knn' : {\n",
    "    'n_neighbors': [3, 5, 7, 9, 11, 13]\n",
    "   },\n",
    "   \n",
    "   'rf' : {\n",
    "    'n_estimators': [50, 100, 200],\n",
    "    'max_depth': [None, 10, 20, 30]\n",
    "   },\n",
    "   \n",
    "   'gb' : {\n",
    "    'n_estimators': [50, 100, 200],\n",
    "    'learning_rate': [0.01, 0.1, 0.2],\n",
    "    'max_depth': [3, 5, 7]\n",
    "   },\n",
    "\n",
    "    'bagging' : {\n",
    "    'n_estimators': [10, 50, 100],\n",
    "    'max_samples': [0.5, 0.7, 1.0],\n",
    "    'max_features': [0.5, 0.7, 1.0]\n",
    "   },\n",
    "   \n",
    "   'xgb' : {\n",
    "    'n_estimators': [50, 100, 200],\n",
    "    'learning_rate': [0.01, 0.1, 0.2],\n",
    "    'max_depth': [3, 5, 7]\n",
    "   },\n",
    "\n",
    "}"
   ]
  },
  {
   "cell_type": "code",
   "execution_count": 43,
   "id": "d7dfe3e2",
   "metadata": {
    "execution": {
     "iopub.execute_input": "2025-04-26T12:02:20.139528Z",
     "iopub.status.busy": "2025-04-26T12:02:20.139143Z",
     "iopub.status.idle": "2025-04-26T12:02:20.144496Z",
     "shell.execute_reply": "2025-04-26T12:02:20.143346Z"
    },
    "papermill": {
     "duration": 0.024213,
     "end_time": "2025-04-26T12:02:20.146002",
     "exception": false,
     "start_time": "2025-04-26T12:02:20.121789",
     "status": "completed"
    },
    "tags": []
   },
   "outputs": [
    {
     "name": "stdout",
     "output_type": "stream",
     "text": [
      "['logistic', 'dt', 'knn', 'rf', 'gb', 'bagging', 'xgb']\n"
     ]
    }
   ],
   "source": [
    "model_keys = list(model_hyperparameters.keys())\n",
    "print(model_keys)"
   ]
  },
  {
   "cell_type": "code",
   "execution_count": 44,
   "id": "d77e9765",
   "metadata": {
    "execution": {
     "iopub.execute_input": "2025-04-26T12:02:20.180333Z",
     "iopub.status.busy": "2025-04-26T12:02:20.179631Z",
     "iopub.status.idle": "2025-04-26T12:02:20.185900Z",
     "shell.execute_reply": "2025-04-26T12:02:20.185095Z"
    },
    "papermill": {
     "duration": 0.026127,
     "end_time": "2025-04-26T12:02:20.187553",
     "exception": false,
     "start_time": "2025-04-26T12:02:20.161426",
     "status": "completed"
    },
    "tags": []
   },
   "outputs": [
    {
     "data": {
      "text/plain": [
       "{'C': [0.001, 0.01, 0.1, 1, 10, 100], 'max_iter': [1000, 200, 500]}"
      ]
     },
     "execution_count": 44,
     "metadata": {},
     "output_type": "execute_result"
    }
   ],
   "source": [
    "\n",
    "model_hyperparameters[model_keys[0]]"
   ]
  },
  {
   "cell_type": "code",
   "execution_count": 45,
   "id": "c4478eef",
   "metadata": {
    "execution": {
     "iopub.execute_input": "2025-04-26T12:02:20.221022Z",
     "iopub.status.busy": "2025-04-26T12:02:20.220682Z",
     "iopub.status.idle": "2025-04-26T12:02:20.228670Z",
     "shell.execute_reply": "2025-04-26T12:02:20.227620Z"
    },
    "papermill": {
     "duration": 0.026733,
     "end_time": "2025-04-26T12:02:20.230324",
     "exception": false,
     "start_time": "2025-04-26T12:02:20.203591",
     "status": "completed"
    },
    "tags": []
   },
   "outputs": [],
   "source": [
    "import pickle\n",
    "def ModelSelection(list_of_models, hyperparameters_dictionary):\n",
    "    result = []\n",
    "    best_score = 0\n",
    "    best_model = None\n",
    "    best_model_name = \"\"\n",
    "    \n",
    "    for i, model in enumerate(list_of_models):\n",
    "        key = model_keys[i]\n",
    "        params = hyperparameters_dictionary[key]\n",
    "        print(f\"Training {key}...\")\n",
    "        classifier = GridSearchCV(model, params, cv=5, n_jobs=-1)\n",
    "        classifier.fit(X, Y)\n",
    "\n",
    "        score = classifier.best_score_\n",
    "        result.append({\n",
    "            'model': key,\n",
    "            'highest score': score,\n",
    "            'best hyperparameters': classifier.best_params_\n",
    "        })\n",
    "\n",
    "        if score > best_score:\n",
    "            best_score = score\n",
    "            best_model = classifier.best_estimator_\n",
    "            best_model_name = key\n",
    "\n",
    "    \n",
    "    \n",
    "    with open(f'best_model_{best_model_name}.pkl', 'wb') as f:\n",
    "        pickle.dump(best_model, f)\n",
    "\n",
    "    print(f\"\\nBest model: {best_model_name}\")\n",
    "    print(f\"Score: {best_score}\")\n",
    "    print(f\"Saved as: best_model_{best_model_name}.pkl\")\n",
    "\n",
    "    result_dataframe = pd.DataFrame(result, columns=['model', 'highest score', 'best hyperparameters'])\n",
    "    return result_dataframe"
   ]
  },
  {
   "cell_type": "code",
   "execution_count": 46,
   "id": "58cfb399",
   "metadata": {
    "execution": {
     "iopub.execute_input": "2025-04-26T12:02:20.264698Z",
     "iopub.status.busy": "2025-04-26T12:02:20.264292Z",
     "iopub.status.idle": "2025-04-26T12:02:44.966502Z",
     "shell.execute_reply": "2025-04-26T12:02:44.965295Z"
    },
    "papermill": {
     "duration": 24.721559,
     "end_time": "2025-04-26T12:02:44.968384",
     "exception": false,
     "start_time": "2025-04-26T12:02:20.246825",
     "status": "completed"
    },
    "tags": []
   },
   "outputs": [
    {
     "name": "stdout",
     "output_type": "stream",
     "text": [
      "Training logistic...\n",
      "Training dt...\n",
      "Training knn...\n",
      "Training rf...\n",
      "Training gb...\n",
      "Training bagging...\n",
      "Training xgb...\n",
      "\n",
      "Best model: bagging\n",
      "Score: 0.864516129032258\n",
      "Saved as: best_model_bagging.pkl\n"
     ]
    },
    {
     "data": {
      "text/html": [
       "<div>\n",
       "<style scoped>\n",
       "    .dataframe tbody tr th:only-of-type {\n",
       "        vertical-align: middle;\n",
       "    }\n",
       "\n",
       "    .dataframe tbody tr th {\n",
       "        vertical-align: top;\n",
       "    }\n",
       "\n",
       "    .dataframe thead th {\n",
       "        text-align: right;\n",
       "    }\n",
       "</style>\n",
       "<table border=\"1\" class=\"dataframe\">\n",
       "  <thead>\n",
       "    <tr style=\"text-align: right;\">\n",
       "      <th></th>\n",
       "      <th>model</th>\n",
       "      <th>highest score</th>\n",
       "      <th>best hyperparameters</th>\n",
       "    </tr>\n",
       "  </thead>\n",
       "  <tbody>\n",
       "    <tr>\n",
       "      <th>0</th>\n",
       "      <td>logistic</td>\n",
       "      <td>0.858065</td>\n",
       "      <td>{'C': 0.001, 'max_iter': 1000}</td>\n",
       "    </tr>\n",
       "    <tr>\n",
       "      <th>1</th>\n",
       "      <td>dt</td>\n",
       "      <td>0.832258</td>\n",
       "      <td>{'criterion': 'entropy', 'max_depth': 5}</td>\n",
       "    </tr>\n",
       "    <tr>\n",
       "      <th>2</th>\n",
       "      <td>knn</td>\n",
       "      <td>0.858065</td>\n",
       "      <td>{'n_neighbors': 7}</td>\n",
       "    </tr>\n",
       "    <tr>\n",
       "      <th>3</th>\n",
       "      <td>rf</td>\n",
       "      <td>0.845161</td>\n",
       "      <td>{'max_depth': None, 'n_estimators': 200}</td>\n",
       "    </tr>\n",
       "    <tr>\n",
       "      <th>4</th>\n",
       "      <td>gb</td>\n",
       "      <td>0.858065</td>\n",
       "      <td>{'learning_rate': 0.01, 'max_depth': 5, 'n_est...</td>\n",
       "    </tr>\n",
       "    <tr>\n",
       "      <th>5</th>\n",
       "      <td>bagging</td>\n",
       "      <td>0.864516</td>\n",
       "      <td>{'max_features': 0.5, 'max_samples': 0.5, 'n_e...</td>\n",
       "    </tr>\n",
       "    <tr>\n",
       "      <th>6</th>\n",
       "      <td>xgb</td>\n",
       "      <td>0.858065</td>\n",
       "      <td>{'learning_rate': 0.01, 'max_depth': 3, 'n_est...</td>\n",
       "    </tr>\n",
       "  </tbody>\n",
       "</table>\n",
       "</div>"
      ],
      "text/plain": [
       "      model  highest score                               best hyperparameters\n",
       "0  logistic       0.858065                     {'C': 0.001, 'max_iter': 1000}\n",
       "1        dt       0.832258           {'criterion': 'entropy', 'max_depth': 5}\n",
       "2       knn       0.858065                                 {'n_neighbors': 7}\n",
       "3        rf       0.845161           {'max_depth': None, 'n_estimators': 200}\n",
       "4        gb       0.858065  {'learning_rate': 0.01, 'max_depth': 5, 'n_est...\n",
       "5   bagging       0.864516  {'max_features': 0.5, 'max_samples': 0.5, 'n_e...\n",
       "6       xgb       0.858065  {'learning_rate': 0.01, 'max_depth': 3, 'n_est..."
      ]
     },
     "execution_count": 46,
     "metadata": {},
     "output_type": "execute_result"
    }
   ],
   "source": [
    "ModelSelection(models_list, model_hyperparameters)"
   ]
  },
  {
   "cell_type": "code",
   "execution_count": 47,
   "id": "6fac0214",
   "metadata": {
    "execution": {
     "iopub.execute_input": "2025-04-26T12:02:45.001702Z",
     "iopub.status.busy": "2025-04-26T12:02:45.001326Z",
     "iopub.status.idle": "2025-04-26T12:02:45.008032Z",
     "shell.execute_reply": "2025-04-26T12:02:45.007143Z"
    },
    "papermill": {
     "duration": 0.025172,
     "end_time": "2025-04-26T12:02:45.009592",
     "exception": false,
     "start_time": "2025-04-26T12:02:44.984420",
     "status": "completed"
    },
    "tags": []
   },
   "outputs": [],
   "source": [
    "with open('best_model_bagging.pkl', 'rb') as f:\n",
    "    model = pickle.load(f)"
   ]
  },
  {
   "cell_type": "code",
   "execution_count": 48,
   "id": "87c620c0",
   "metadata": {
    "execution": {
     "iopub.execute_input": "2025-04-26T12:02:45.043438Z",
     "iopub.status.busy": "2025-04-26T12:02:45.043074Z",
     "iopub.status.idle": "2025-04-26T12:02:45.065261Z",
     "shell.execute_reply": "2025-04-26T12:02:45.064104Z"
    },
    "papermill": {
     "duration": 0.040964,
     "end_time": "2025-04-26T12:02:45.066920",
     "exception": false,
     "start_time": "2025-04-26T12:02:45.025956",
     "status": "completed"
    },
    "tags": []
   },
   "outputs": [
    {
     "name": "stdout",
     "output_type": "stream",
     "text": [
      "Accuracy_Score = 91.49 %\n",
      "----------------------------------------------------\n",
      "confusion_matrix\n",
      " [[ 1  4]\n",
      " [ 0 42]]\n",
      "----------------------------------------------------\n",
      "classification_report\n",
      "               precision    recall  f1-score   support\n",
      "\n",
      "           0       1.00      0.20      0.33         5\n",
      "           1       0.91      1.00      0.95        42\n",
      "\n",
      "    accuracy                           0.91        47\n",
      "   macro avg       0.96      0.60      0.64        47\n",
      "weighted avg       0.92      0.91      0.89        47\n",
      "\n"
     ]
    }
   ],
   "source": [
    "y_pre=model.predict(X_test)\n",
    "print('Accuracy_Score =',round((accuracy_score(Y_test,y_pre)*100),2),'%')\n",
    "print('----------------------------------------------------')\n",
    "print('confusion_matrix\\n',confusion_matrix(Y_test,y_pre))\n",
    "print('----------------------------------------------------')\n",
    "print('classification_report\\n',classification_report(Y_test,y_pre))"
   ]
  }
 ],
 "metadata": {
  "kaggle": {
   "accelerator": "none",
   "dataSources": [
    {
     "datasetId": 4390452,
     "sourceId": 7539897,
     "sourceType": "datasetVersion"
    }
   ],
   "dockerImageVersionId": 31012,
   "isGpuEnabled": false,
   "isInternetEnabled": true,
   "language": "python",
   "sourceType": "notebook"
  },
  "kernelspec": {
   "display_name": "Python 3",
   "language": "python",
   "name": "python3"
  },
  "language_info": {
   "codemirror_mode": {
    "name": "ipython",
    "version": 3
   },
   "file_extension": ".py",
   "mimetype": "text/x-python",
   "name": "python",
   "nbconvert_exporter": "python",
   "pygments_lexer": "ipython3",
   "version": "3.11.11"
  },
  "papermill": {
   "default_parameters": {},
   "duration": 44.00303,
   "end_time": "2025-04-26T12:02:47.705133",
   "environment_variables": {},
   "exception": null,
   "input_path": "__notebook__.ipynb",
   "output_path": "__notebook__.ipynb",
   "parameters": {},
   "start_time": "2025-04-26T12:02:03.702103",
   "version": "2.6.0"
  }
 },
 "nbformat": 4,
 "nbformat_minor": 5
}
